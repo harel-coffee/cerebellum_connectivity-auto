{
 "cells": [
  {
   "cell_type": "markdown",
   "metadata": {},
   "source": [
    "# A jupyter notebook to rule them all\n",
    "This jupyter notebook will be used to do the analysis as a pipeline\n",
    "\n",
    "## Import modules"
   ]
  },
  {
   "cell_type": "code",
   "execution_count": null,
   "metadata": {},
   "outputs": [],
   "source": [
    "# the \"usual\" packages\n",
    "import numpy as np            # obviously\n",
    "import pandas as pd\n",
    "import scipy as sp\n",
    "\n",
    "# specific packages\n",
    "import data_integration as di # for importing .mat files\n",
    "import essentials as es       # in case I need an \"essential\" function during analysis, like indicatorMatrix\n",
    "import prep_data              # to prepare data\n",
    "import connect_fit            # to fit different connectivity models\n",
    "import evaluate               # to evaluate models"
   ]
  },
  {
   "cell_type": "markdown",
   "metadata": {},
   "source": [
    "# Prepare data for modelling\n",
    "will be using prep_data for preparing data for modelling.\n",
    "\n",
    "1. setting some defaults: returnSubjs, rois, ...\n",
    "2. use <font color = 'red'>prep_data.get_data <font color = 'k'>to prepare and save data for modelling\n",
    "    * for cortex (X)\n",
    "    * for cerebellum (Y)"
   ]
  },
  {
   "cell_type": "code",
   "execution_count": null,
   "metadata": {},
   "outputs": [],
   "source": [
    "# sestting defaults for some variables\n",
    "returnSubjs = np.array([2,3,4,6,8,9,10,12,14,15,17,18,19,20,21,22,24,25,26,27,28,29,30,31])\n",
    "\n",
    "# just for debugging, I will run a couple of subjects\n",
    "testSubjs = np.array([2, 10, 27])"
   ]
  },
  {
   "cell_type": "code",
   "execution_count": null,
   "metadata": {},
   "outputs": [],
   "source": [
    "# for cortex\n",
    "roi_X = 'tesselsWB162'\n",
    "DD_X  = prep_data.get_data(sn = testSubjs, glm = 7, roi = roi_X, which = 'cond', avg = 1)\n",
    "\n",
    "# for cerebellum\n",
    "roi_Y = 'grey_nan'\n",
    "DD_Y  = prep_data.get_data(sn = testSubjs, glm = 7, roi = roi_Y, which = 'cond', avg = 1)"
   ]
  },
  {
   "cell_type": "code",
   "execution_count": null,
   "metadata": {},
   "outputs": [],
   "source": []
  }
 ],
 "metadata": {
  "kernelspec": {
   "display_name": "Python 3",
   "language": "python",
   "name": "python3"
  },
  "language_info": {
   "codemirror_mode": {
    "name": "ipython",
    "version": 3
   },
   "file_extension": ".py",
   "mimetype": "text/x-python",
   "name": "python",
   "nbconvert_exporter": "python",
   "pygments_lexer": "ipython3",
   "version": "3.7.1"
  }
 },
 "nbformat": 4,
 "nbformat_minor": 2
}
