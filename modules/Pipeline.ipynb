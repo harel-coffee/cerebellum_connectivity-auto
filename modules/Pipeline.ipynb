{
 "cells": [
  {
   "cell_type": "markdown",
   "metadata": {},
   "source": [
    "# A jupyter notebook to rule them all\n",
    "This jupyter notebook will be used to do the analysis as a pipeline\n",
    "\n",
    "## 1. Import modules"
   ]
  },
  {
   "cell_type": "code",
   "execution_count": null,
   "metadata": {},
   "outputs": [],
   "source": [
    "# the \"usual\" packages\n",
    "import numpy as np            # obviously\n",
    "import pandas as pd\n",
    "import scipy as sp\n",
    "\n",
    "# specific packages\n",
    "import data_integration as di # for importing .mat files\n",
    "import essentials as es       # in case I need an \"essential\" function during analysis, like indicatorMatrix\n",
    "import prep_data              # to prepare data\n",
    "import model\n",
    "import evaluate               # to evaluate models"
   ]
  },
  {
   "cell_type": "markdown",
   "metadata": {},
   "source": [
    "## 2. Prepare data for modelling\n",
    "will be using prep_data for preparing data for modelling.\n",
    "\n",
    "1. setting some defaults: returnSubjs, rois, ...\n",
    "2. use <font color = 'red'>prep_data.get_data <font color = 'k'>to prepare and save data for modelling\n",
    "    * for cortex (X)\n",
    "    * for cerebellum (Y)"
   ]
  },
  {
   "cell_type": "code",
   "execution_count": null,
   "metadata": {},
   "outputs": [],
   "source": [
    "# sestting defaults for some variables\n",
    "returnSubjs = np.array([2,3,4,6,8,9,10,12,14,15,17,18,19,20,21,22,24,25,26,27,28,29,30,31])\n",
    "\n",
    "# just for debugging, I will run a couple of subjects\n",
    "testSubjs = np.array([2, 10, 27])"
   ]
  },
  {
   "cell_type": "code",
   "execution_count": null,
   "metadata": {},
   "outputs": [],
   "source": [
    "# Setting different options of the functions\n",
    "roi_dict = {'cortex':'tesselsWB162', 'cerebellum':'grey_nan'} "
   ]
  },
  {
   "cell_type": "code",
   "execution_count": null,
   "metadata": {
    "scrolled": true
   },
   "outputs": [],
   "source": [
    "DD = {}\n",
    "for r in list(roi_dict.keys()):\n",
    "    DD[r]  = prep_data.get_data(sn = testSubjs, glm = 7, roi = roi_dict[r], which = 'cond', avg = 1)"
   ]
  },
  {
   "cell_type": "markdown",
   "metadata": {},
   "source": [
    "## 3. Modelling\n",
    "Import function model_fit function from modelling module to fit different models to data. I will run all the models"
   ]
  },
  {
   "cell_type": "markdown",
   "metadata": {},
   "source": [
    "### 3.1 L2 regression"
   ]
  },
  {
   "cell_type": "code",
   "execution_count": null,
   "metadata": {},
   "outputs": [],
   "source": [
    "Rr = model_fit(sn = testSubjs, model = 'l2regress', params = [20, 25, 50], glm = 7, rois = roi_dict,\n",
    "               trainMode = 'crossed', trainExper = 1, inclInstr = 1, scale = True, overwrite = True, avg = 1)"
   ]
  },
  {
   "cell_type": "markdown",
   "metadata": {},
   "source": [
    "### 3.2 PLS regression"
   ]
  },
  {
   "cell_type": "code",
   "execution_count": null,
   "metadata": {},
   "outputs": [],
   "source": [
    "Rr = model_fit(sn = testSubjs, model = 'plsregress', params = [10, 12, 15], glm = 7, rois = roi_dict,\n",
    "               trainMode = 'crossed', trainExper = 1, inclInstr = 1, scale = True, overwrite = True, avg = 1)"
   ]
  },
  {
   "cell_type": "code",
   "execution_count": null,
   "metadata": {},
   "outputs": [],
   "source": []
  }
 ],
 "metadata": {
  "kernelspec": {
   "display_name": "Python 3",
   "language": "python",
   "name": "python3"
  },
  "language_info": {
   "codemirror_mode": {
    "name": "ipython",
    "version": 3
   },
   "file_extension": ".py",
   "mimetype": "text/x-python",
   "name": "python",
   "nbconvert_exporter": "python",
   "pygments_lexer": "ipython3",
   "version": "3.7.1"
  }
 },
 "nbformat": 4,
 "nbformat_minor": 2
}
