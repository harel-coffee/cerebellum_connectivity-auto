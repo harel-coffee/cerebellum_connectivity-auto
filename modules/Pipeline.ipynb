{
 "cells": [
  {
   "cell_type": "markdown",
   "metadata": {},
   "source": [
    "# A jupyter notebook to rule them all\n",
    "This jupyter notebook will be used to do the analysis as a pipeline\n",
    "\n",
    "## 1. Import modules"
   ]
  },
  {
   "cell_type": "code",
   "execution_count": null,
   "metadata": {},
   "outputs": [],
   "source": [
    "# the \"usual\" packages\n",
    "import numpy as np            # obviously\n",
    "import pandas as pd\n",
    "import scipy as sp\n",
    "import os\n",
    "import pickle # pip/pip3 install pickle-mixin\n",
    "\n",
    "# specific packages\n",
    "import data_integration as di # for importing .mat files\n",
    "import essentials as es       # in case I need an \"essential\" function during analysis, like indicatorMatrix\n",
    "import prep_data              # to prepare data\n",
    "import model\n",
    "import evaluation             # to evaluate models"
   ]
  },
  {
   "cell_type": "markdown",
   "metadata": {},
   "source": [
    "## 2. Prepare data for modelling\n",
    "will be using prep_data for preparing data for modelling.\n",
    "\n",
    "1. setting some defaults: returnSubjs, rois, ...\n",
    "2. use <font color = 'red'>prep_data.get_data <font color = 'k'>to prepare and save data for modelling\n",
    "    * for cortex (X)\n",
    "    * for cerebellum (Y)"
   ]
  },
  {
   "cell_type": "code",
   "execution_count": null,
   "metadata": {},
   "outputs": [],
   "source": [
    "# sestting defaults for some variables\n",
    "returnSubjs = np.array([2,3,4,6,8,9,10,12,14,15,17,18,19,20,21,22,24,25,26,27,28,29,30,31])\n",
    "\n",
    "# just for debugging, I will run a couple of subjects\n",
    "# testSubjs = np.array([2, 10])"
   ]
  },
  {
   "cell_type": "code",
   "execution_count": null,
   "metadata": {},
   "outputs": [],
   "source": [
    "# Setting different options of the functions\n",
    "roi_dict        = {'cortex':'tesselsWB162', 'cerebellum':'grey_nan'} \n",
    "trainExperiment = 1\n",
    "tMode           = 'crossed'"
   ]
  },
  {
   "cell_type": "code",
   "execution_count": null,
   "metadata": {
    "scrolled": true
   },
   "outputs": [],
   "source": [
    "# DD = {}\n",
    "# for r in list(roi_dict.keys()):\n",
    "#     DD[r]  = prep_data.get_data(sn = returnSubjs, glm = 7, roi = roi_dict[r], which = 'cond', avg = 1)"
   ]
  },
  {
   "cell_type": "markdown",
   "metadata": {},
   "source": [
    "## 3. Modelling\n",
    "Import function model_fit function from modelling module to fit different models to data. I will run all the models"
   ]
  },
  {
   "cell_type": "markdown",
   "metadata": {},
   "source": [
    "### 3.1 L2 regression"
   ]
  },
  {
   "cell_type": "code",
   "execution_count": null,
   "metadata": {},
   "outputs": [],
   "source": [
    "Rr = model.model_fit(sn = returnSubjs, model = 'l2regress', params = np.array([10, 20]), glm = 7, rois = roi_dict,\n",
    "                     trainMode = tMode, trainExper = trainExperiment,\n",
    "                     inclInstr = 1, scale = True, overwrite = True, avg = 1)"
   ]
  },
  {
   "cell_type": "markdown",
   "metadata": {},
   "source": [
    "### 3.2 PLS regression"
   ]
  },
  {
   "cell_type": "code",
   "execution_count": null,
   "metadata": {},
   "outputs": [],
   "source": [
    "Rr = model.model_fit(sn = returnSubjs, model = 'plsregress', params = np.array([10, 12]), glm = 7, \n",
    "                     rois = roi_dict,\n",
    "                     trainMode = tMode, trainExper = trainExperiment, \n",
    "                     inclInstr = 1, scale = True, overwrite = True, avg = 1)"
   ]
  },
  {
   "cell_type": "markdown",
   "metadata": {},
   "source": [
    "### 3.3 l1regress"
   ]
  },
  {
   "cell_type": "code",
   "execution_count": null,
   "metadata": {},
   "outputs": [],
   "source": []
  },
  {
   "cell_type": "markdown",
   "metadata": {},
   "source": [
    "### 3.4 Elastic Net (sklearn)"
   ]
  },
  {
   "cell_type": "code",
   "execution_count": null,
   "metadata": {},
   "outputs": [],
   "source": []
  },
  {
   "cell_type": "markdown",
   "metadata": {},
   "source": [
    "## 4. Evaluation\n",
    "doing the evaluation for individual subjects on models estimated for individual subjects"
   ]
  },
  {
   "cell_type": "markdown",
   "metadata": {},
   "source": [
    "### Evaluate l2regress and plsregress models"
   ]
  },
  {
   "cell_type": "code",
   "execution_count": null,
   "metadata": {},
   "outputs": [],
   "source": [
    "ER = evaluation.evaluate_pipeline(sn = returnSubjs, model = ['l2regress', 'plsregress'], glm = 7, \n",
    "                                  subset = [], splitby = [], \n",
    "                                  rois = {'cortex':'tesselsWB162', 'cerebellum':'grey_nan'},\n",
    "                                  inclInst = 1, meanSubt = 1, experNum = [1, 2], avg = 1, trainMode = tMode,\n",
    "                                  trainExper = trainExperiment)"
   ]
  }
 ],
 "metadata": {
  "kernelspec": {
   "display_name": "Python 3",
   "language": "python",
   "name": "python3"
  },
  "language_info": {
   "codemirror_mode": {
    "name": "ipython",
    "version": 3
   },
   "file_extension": ".py",
   "mimetype": "text/x-python",
   "name": "python",
   "nbconvert_exporter": "python",
   "pygments_lexer": "ipython3",
   "version": "3.7.1"
  }
 },
 "nbformat": 4,
 "nbformat_minor": 2
}
