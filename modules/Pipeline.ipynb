{
 "cells": [
  {
   "cell_type": "markdown",
   "metadata": {},
   "source": [
    "# A jupyter notebook to rule them all\n",
    "This jupyter notebook will be used to do the analysis as a pipeline\n",
    "\n",
    "## 1. Import modules"
   ]
  },
  {
   "cell_type": "code",
   "execution_count": 1,
   "metadata": {},
   "outputs": [],
   "source": [
    "# the \"usual\" packages\n",
    "import numpy as np            # obviously\n",
    "import pandas as pd\n",
    "import scipy as sp\n",
    "\n",
    "# specific packages\n",
    "import data_integration as di # for importing .mat files\n",
    "import essentials as es       # in case I need an \"essential\" function during analysis, like indicatorMatrix\n",
    "import prep_data              # to prepare data\n",
    "import model\n",
    "import evaluate               # to evaluate models"
   ]
  },
  {
   "cell_type": "markdown",
   "metadata": {},
   "source": [
    "## 2. Prepare data for modelling\n",
    "will be using prep_data for preparing data for modelling.\n",
    "\n",
    "1. setting some defaults: returnSubjs, rois, ...\n",
    "2. use <font color = 'red'>prep_data.get_data <font color = 'k'>to prepare and save data for modelling\n",
    "    * for cortex (X)\n",
    "    * for cerebellum (Y)"
   ]
  },
  {
   "cell_type": "code",
   "execution_count": 2,
   "metadata": {},
   "outputs": [],
   "source": [
    "# sestting defaults for some variables\n",
    "returnSubjs = np.array([2,3,4,6,8,9,10,12,14,15,17,18,19,20,21,22,24,25,26,27,28,29,30,31])\n",
    "\n",
    "# just for debugging, I will run a couple of subjects\n",
    "testSubjs = np.array([2, 10, 27])"
   ]
  },
  {
   "cell_type": "code",
   "execution_count": 3,
   "metadata": {},
   "outputs": [
    {
     "name": "stdout",
     "output_type": "stream",
     "text": [
      "........ preparing data for study 1 roi tesselsWB162\n",
      ".... Doing subject 02\n",
      ".. Y_info\n",
      "loading mat file\n",
      ".. SPM_info\n",
      "loading mat file\n",
      ".Doing subject 02, sess 1\n",
      ".Doing subject 02, sess 2\n",
      ".... Doing subject 10\n",
      ".. Y_info\n",
      "loading mat file\n",
      ".. SPM_info\n",
      "loading mat file\n",
      ".Doing subject 10, sess 1\n",
      ".Doing subject 10, sess 2\n",
      ".... Doing subject 27\n",
      ".. Y_info\n",
      "loading mat file\n",
      ".. SPM_info\n",
      "loading mat file\n",
      ".Doing subject 27, sess 1\n",
      ".Doing subject 27, sess 2\n",
      "........ preparing data for study 2 roi tesselsWB162\n",
      ".... Doing subject 02\n",
      ".. Y_info\n",
      "loading mat file\n",
      ".. SPM_info\n",
      "loading mat file\n",
      ".Doing subject 02, sess 1\n",
      ".Doing subject 02, sess 2\n",
      ".... Doing subject 10\n",
      ".. Y_info\n",
      "loading mat file\n",
      ".. SPM_info\n",
      "loading mat file\n",
      ".Doing subject 10, sess 1\n",
      ".Doing subject 10, sess 2\n",
      ".... Doing subject 27\n",
      ".. Y_info\n",
      "loading mat file\n",
      ".. SPM_info\n",
      "loading mat file\n",
      ".Doing subject 27, sess 1\n",
      ".Doing subject 27, sess 2\n",
      "........ preparing data for study 1 roi grey_nan\n",
      ".... Doing subject 02\n",
      ".. Y_info\n",
      "loading mat file\n",
      ".. SPM_info\n",
      "loading mat file\n",
      ".Doing subject 02, sess 1\n",
      ".Doing subject 02, sess 2\n",
      ".... Doing subject 10\n",
      ".. Y_info\n",
      "loading mat file\n",
      ".. SPM_info\n",
      "loading mat file\n",
      ".Doing subject 10, sess 1\n",
      ".Doing subject 10, sess 2\n",
      ".... Doing subject 27\n",
      ".. Y_info\n",
      "loading mat file\n",
      ".. SPM_info\n",
      "loading mat file\n",
      ".Doing subject 27, sess 1\n",
      ".Doing subject 27, sess 2\n",
      "........ preparing data for study 2 roi grey_nan\n",
      ".... Doing subject 02\n",
      ".. Y_info\n",
      "loading mat file\n",
      ".. SPM_info\n",
      "loading mat file\n",
      ".Doing subject 02, sess 1\n",
      ".Doing subject 02, sess 2\n",
      ".... Doing subject 10\n",
      ".. Y_info\n",
      "loading mat file\n",
      ".. SPM_info\n",
      "loading mat file\n",
      ".Doing subject 10, sess 1\n",
      ".Doing subject 10, sess 2\n",
      ".... Doing subject 27\n",
      ".. Y_info\n",
      "loading mat file\n",
      ".. SPM_info\n",
      "loading mat file\n",
      ".Doing subject 27, sess 1\n",
      ".Doing subject 27, sess 2\n"
     ]
    }
   ],
   "source": [
    "# for cortex\n",
    "roi_X = 'tesselsWB162'\n",
    "DD_X  = prep_data.get_data(sn = testSubjs, glm = 7, roi = roi_X, which = 'cond', avg = 1)\n",
    "\n",
    "# for cerebellum\n",
    "roi_Y = 'grey_nan'\n",
    "DD_Y  = prep_data.get_data(sn = testSubjs, glm = 7, roi = roi_Y, which = 'cond', avg = 1)"
   ]
  },
  {
   "cell_type": "markdown",
   "metadata": {},
   "source": [
    "## 3. Modelling\n",
    "for debugging codes, all the models will run to see whether everything works fine.\n",
    "\n",
    "1. use <font color = 'red'>prep_data.get_wcon <font color = 'k'>to use the data saved after prep_data.get_data was run\n",
    "2. Arrange data based on the training mode: crossed, uncrossed __(Might be better to have a new module/function for this?)__"
   ]
  },
  {
   "cell_type": "code",
   "execution_count": null,
   "metadata": {},
   "outputs": [],
   "source": [
    "# 1. use prep_data.get_wcon \n",
    "[X, Tf] = prep_data.get_wcon(experNum = [1, 2], glm = 7, roi = roi_X, avg = 1)\n",
    "[Y, Tf] = prep_data.get_wcon(experNum = [1, 2], glm = 7, roi = roi_Y, avg = 1)"
   ]
  },
  {
   "cell_type": "code",
   "execution_count": null,
   "metadata": {},
   "outputs": [],
   "source": [
    "# 2. arrange data based on the training mode\n",
    "trainExper = 1\n",
    "trainMode  = 'crossed' # can be 'uncrossed'\n",
    "\n",
    "SI1 = np.argwhere(np.array(((Tf['StudyNum'] == trainExper)*1)*((Tf['sess'] == 1)*1) == 1))\n",
    "SI2 = np.argwhere(np.array(((Tf['StudyNum'] == trainExper)*1)*((Tf['sess'] == 2)*1) == 1))\n",
    "\n",
    "if trainMode == 'crossed':\n",
    "    trainYindx = np.concatenate((SI2, SI1))\n",
    "elif trainMode == 'uncrossed':\n",
    "    trainYindx = np.concatenate((SI1, SI2))\n"
   ]
  },
  {
   "cell_type": "code",
   "execution_count": null,
   "metadata": {},
   "outputs": [],
   "source": [
    "736/16"
   ]
  },
  {
   "cell_type": "code",
   "execution_count": null,
   "metadata": {},
   "outputs": [],
   "source": [
    "92/46"
   ]
  },
  {
   "cell_type": "code",
   "execution_count": null,
   "metadata": {},
   "outputs": [],
   "source": [
    "95 - 46"
   ]
  },
  {
   "cell_type": "code",
   "execution_count": null,
   "metadata": {},
   "outputs": [],
   "source": []
  }
 ],
 "metadata": {
  "kernelspec": {
   "display_name": "Python 3",
   "language": "python",
   "name": "python3"
  },
  "language_info": {
   "codemirror_mode": {
    "name": "ipython",
    "version": 3
   },
   "file_extension": ".py",
   "mimetype": "text/x-python",
   "name": "python",
   "nbconvert_exporter": "python",
   "pygments_lexer": "ipython3",
   "version": "3.7.1"
  }
 },
 "nbformat": 4,
 "nbformat_minor": 2
}
