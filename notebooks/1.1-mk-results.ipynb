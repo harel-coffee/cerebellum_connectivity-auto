{
 "cells": [
  {
   "cell_type": "code",
   "execution_count": null,
   "metadata": {},
   "outputs": [],
   "source": [
    "import pandas as pd\n",
    "import numpy as np\n",
    "import os\n",
    "from pathlib import Path\n",
    "import nibabel as nib\n",
    "\n",
    "from connectivity import constants as const\n",
    "from connectivity import visualize_summary as summary\n",
    "\n",
    "%reload_ext autoreload\n",
    "%autoreload 2\n",
    "\n",
    "import warnings\n",
    "warnings.filterwarnings('ignore')"
   ]
  },
  {
   "cell_type": "code",
   "execution_count": 10,
   "metadata": {},
   "outputs": [],
   "source": [
    "# run connectivity routine\n",
    "# train and validate ridge model(s)\n",
    "# evaluate best model (based on CV R)\n",
    "\n",
    "# navigate to scripts dir\n",
    "dirs = const.Dirs()\n",
    "os.chdir(os.path.join(Path(dirs.base_dir).parent, 'connectivity/scripts'))\n",
    "\n",
    "## train \n",
    "# %run -i 'script_mk.py' --cortex=\"tesselsWB162\" --model_type=\"ridge\" --train_or_eval=\"train\"\n",
    "\n",
    "## eval\n",
    "# %run -i 'script_mk.py' --train_or_eval==\"eval\""
   ]
  },
  {
   "cell_type": "code",
   "execution_count": null,
   "metadata": {},
   "outputs": [],
   "source": [
    "# plot alpha curve for train CVs\n",
    "\n",
    "df = summary.train_summary()\n",
    "\n",
    "summary.plot_train_predictions(dataframe=tmp, hue='train_exp');\n"
   ]
  },
  {
   "cell_type": "code",
   "execution_count": null,
   "metadata": {
    "scrolled": false
   },
   "outputs": [],
   "source": [
    "# Model evaluation (noise ceiling and predictions)\n",
    "\n",
    "# get evaluation \n",
    "df_eval = summary.eval_summary()\n",
    "\n",
    "for exp in ['sc1', 'sc2']:\n",
    "    \n",
    "    #plot evaluation\n",
    "    summary.plot_eval_predictions(dataframe=df_eval, exp=exp)\n"
   ]
  },
  {
   "cell_type": "code",
   "execution_count": null,
   "metadata": {},
   "outputs": [],
   "source": [
    "# visualize voxel maps - evaluation\n",
    "view = summary.plot_map(gifti_func='group_R_vox', exp='sc1', cscale=[0, 0.8])\n",
    "\n",
    "view"
   ]
  },
  {
   "cell_type": "code",
   "execution_count": null,
   "metadata": {},
   "outputs": [],
   "source": [
    "# visualize voxel maps - training\n",
    "\n",
    "# view = summary.plot_train_map(gifti_func='group_weights_cerebellum', exp='sc1')\n",
    "\n",
    "# view"
   ]
  }
 ],
 "metadata": {
  "kernelspec": {
   "display_name": "connectivity",
   "language": "python",
   "name": "connectivity"
  },
  "language_info": {
   "codemirror_mode": {
    "name": "ipython",
    "version": 3
   },
   "file_extension": ".py",
   "mimetype": "text/x-python",
   "name": "python",
   "nbconvert_exporter": "python",
   "pygments_lexer": "ipython3",
   "version": "3.7.8"
  }
 },
 "nbformat": 4,
 "nbformat_minor": 4
}
