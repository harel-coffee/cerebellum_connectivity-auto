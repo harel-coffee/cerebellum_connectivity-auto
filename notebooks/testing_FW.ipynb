{
 "cells": [
  {
   "cell_type": "markdown",
   "metadata": {},
   "source": [
    "# testing implementation of forward step-wise regression"
   ]
  },
  {
   "cell_type": "code",
   "execution_count": 1,
   "metadata": {},
   "outputs": [],
   "source": [
    "import numpy as np\n",
    "import pandas as pd \n",
    "from sklearn.feature_selection import SequentialFeatureSelector\n",
    "from sklearn.linear_model import LinearRegression\n",
    "from sklearn.linear_model import Ridge\n",
    "from sklearn.linear_model import Lasso\n"
   ]
  },
  {
   "cell_type": "code",
   "execution_count": 2,
   "metadata": {},
   "outputs": [],
   "source": [
    "# creaete a toy example\n",
    "from sklearn.datasets import make_regression\n",
    "\n",
    "X, y, coef = make_regression(n_samples=92, n_features=20,\n",
    "                                      n_informative=5, noise=10,\n",
    "                                      coef=True, random_state=0)"
   ]
  },
  {
   "cell_type": "code",
   "execution_count": 3,
   "metadata": {},
   "outputs": [],
   "source": [
    "def forward_devel(X, Y, n):\n",
    "    \"\"\"\n",
    "    1. start with evaluation of individual features\n",
    "    2. select the one feature that results in the best performance\n",
    "        ** what is the best? That depends on the selected evaluation criteria (in this case it can be R)\n",
    "    3. Consider all the possible combinations of the selected feature and another feature and select the best combination\n",
    "    4. Repeat 1 to 3 untill you have the desired number of features\n",
    "\n",
    "    Args: \n",
    "    X(np.ndarray)   -    design matrix   \n",
    "    Y(np.ndarray)   -    response variables\n",
    "    n(int)          -    number of features to select\n",
    "    \"\"\"\n",
    "\n",
    "    # 1. starting with an empty list: the list will be filled with best features eventual\n",
    "    selected = []\n",
    "    remaining = list(range(X.shape[1]))\n",
    "\n",
    "    # 2. loop over features\n",
    "    while (remaining) and (len(selected)< n): # while remaining is not empty and n features are not selected \n",
    "        scores = pd.Series(np.empty((len(remaining))), index=remaining) # the scores will be stored in this \n",
    "        for i in remaining:\n",
    "    \n",
    "            feats = selected +[i] # list containing the current features that will be used in regression\n",
    "            # fit the model\n",
    "            ## get the features from X\n",
    "            X_feat = X[:, list(feats)]\n",
    "\n",
    "            ## scale X_feat\n",
    "            scale_ = np.sqrt(np.nansum(X_feat ** 2, 0) / X_feat.shape[0])\n",
    "            Xs = X_feat / scale_\n",
    "            Xs = np.nan_to_num(Xs) # there are 0 values after scaling\n",
    "\n",
    "            ## fit the model\n",
    "            model = LinearRegression(fit_intercept=False).fit(Xs, Y)\n",
    "\n",
    "            ## get the score and put it in scores\n",
    "            scores.loc[i] = model.score(Xs, y, sample_weight=None)\n",
    "\n",
    "        # find the feature/feature combination with the best score\n",
    "        best = scores.idxmax()\n",
    "        selected.append(best)\n",
    "        # update remaining\n",
    "        ## remove the selected feature/features from remaining\n",
    "        remaining.remove(best)\n",
    "\n",
    "    return selected"
   ]
  },
  {
   "cell_type": "code",
   "execution_count": 4,
   "metadata": {},
   "outputs": [],
   "source": [
    "def forward_scikit(X, Y, n):\n",
    "    \"\"\"\n",
    "    uses scikit learn SequentialFeatureSelector to select the best features\n",
    "\n",
    "    \"\"\"\n",
    "    selector = SequentialFeatureSelector(LinearRegression(fit_intercept=False), n_features_to_select=n)\n",
    "    \n",
    "    # scale X\n",
    "    scale_ = np.sqrt(np.nansum(X ** 2, 0) / X.shape[0])\n",
    "    Xs = X / scale_\n",
    "    Xs = np.nan_to_num(Xs) # there are 0 values after scaling\n",
    "\n",
    "    selector.fit(Xs, Y)\n",
    "\n",
    "    selected_bool = selector.get_support()\n",
    "    selected = np.where(selected_bool)[0]\n",
    "\n",
    "\n",
    "    return selected\n"
   ]
  },
  {
   "cell_type": "code",
   "execution_count": 5,
   "metadata": {},
   "outputs": [],
   "source": [
    "a = forward_devel(X, y, n = 6)\n"
   ]
  },
  {
   "cell_type": "code",
   "execution_count": 6,
   "metadata": {},
   "outputs": [],
   "source": [
    "b = forward_scikit(X, y, n = 6)"
   ]
  },
  {
   "cell_type": "code",
   "execution_count": 7,
   "metadata": {},
   "outputs": [
    {
     "name": "stdout",
     "output_type": "stream",
     "text": [
      "[6, 8, 1, 14, 2, 0]\n",
      "[ 0  1  2  6  8 14]\n"
     ]
    }
   ],
   "source": [
    "print(a)\n",
    "print(b)"
   ]
  },
  {
   "cell_type": "code",
   "execution_count": null,
   "metadata": {},
   "outputs": [],
   "source": []
  }
 ],
 "metadata": {
  "kernelspec": {
   "display_name": "Python 3.7.0 64-bit ('cerebellum_connectivity-pszUI8aN': pipenv)",
   "name": "connectivity"
  },
  "language_info": {
   "codemirror_mode": {
    "name": "ipython",
    "version": 3
   },
   "file_extension": ".py",
   "mimetype": "text/x-python",
   "name": "python",
   "nbconvert_exporter": "python",
   "pygments_lexer": "ipython3",
   "version": "3.7.0"
  },
  "orig_nbformat": 4
 },
 "nbformat": 4,
 "nbformat_minor": 2
}