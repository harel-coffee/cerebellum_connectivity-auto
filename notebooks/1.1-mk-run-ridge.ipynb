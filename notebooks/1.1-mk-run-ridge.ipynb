{
 "cells": [
  {
   "cell_type": "code",
   "execution_count": 5,
   "metadata": {},
   "outputs": [],
   "source": [
    "import pandas as pd\n",
    "import numpy as np\n",
    "import os\n",
    "import seaborn as sns\n",
    "import matplotlib.pyplot as plt\n",
    "\n",
    "from connectivity import constants as const\n",
    "from connectivity.savio_scripts import script_ridge_mk as run\n",
    "from connectivity import visualize_summary as vis_summary\n",
    "\n",
    "\n",
    "# %load_ext autoreload\n",
    "%reload_ext autoreload\n",
    "%autoreload 2"
   ]
  },
  {
   "cell_type": "code",
   "execution_count": null,
   "metadata": {},
   "outputs": [],
   "source": [
    "# clear connect files\n",
    "run.delete_conn_files()"
   ]
  },
  {
   "cell_type": "code",
   "execution_count": 10,
   "metadata": {},
   "outputs": [
    {
     "name": "stdout",
     "output_type": "stream",
     "text": [
      "training alpha 0\n",
      "Training model on s02\n",
      "Training model on s03\n",
      "Training model on s09\n",
      "Training model on s10\n",
      "Training model on s12\n",
      "Training model on s15\n",
      "Training model on s17\n",
      "Training model on s18\n",
      "Training model on s19\n",
      "Training model on s20\n",
      "Training model on s24\n",
      "Training model on s25\n",
      "Training model on s27\n",
      "Training model on s28\n",
      "Training model on s29\n",
      "Training model on s30\n",
      "Training model on s31\n",
      "tracking experiment\n"
     ]
    },
    {
     "name": "stderr",
     "output_type": "stream",
     "text": [
      "psutil is not installed. You will not be able to abort this experiment from the UI.\n",
      "psutil is not installed. Hardware metrics will not be collected.\n"
     ]
    },
    {
     "name": "stdout",
     "output_type": "stream",
     "text": [
      "https://ui.neptune.ai/maedbhking/connectivity/e/CON-26\n",
      "training alpha 2\n",
      "Training model on s02\n",
      "Training model on s03\n",
      "Training model on s09\n",
      "Training model on s10\n",
      "Training model on s12\n",
      "Training model on s15\n",
      "Training model on s17\n",
      "Training model on s18\n",
      "Training model on s19\n",
      "Training model on s20\n",
      "Training model on s24\n",
      "Training model on s25\n",
      "Training model on s27\n",
      "Training model on s28\n",
      "Training model on s29\n",
      "Training model on s30\n",
      "Training model on s31\n",
      "tracking experiment\n"
     ]
    },
    {
     "name": "stderr",
     "output_type": "stream",
     "text": [
      "psutil is not installed. You will not be able to abort this experiment from the UI.\n",
      "psutil is not installed. Hardware metrics will not be collected.\n"
     ]
    },
    {
     "name": "stdout",
     "output_type": "stream",
     "text": [
      "https://ui.neptune.ai/maedbhking/connectivity/e/CON-27\n",
      "training alpha 4\n",
      "Training model on s02\n",
      "Training model on s03\n",
      "Training model on s09\n",
      "Training model on s10\n",
      "Training model on s12\n",
      "Training model on s15\n",
      "Training model on s17\n",
      "Training model on s18\n",
      "Training model on s19\n",
      "Training model on s20\n",
      "Training model on s24\n",
      "Training model on s25\n",
      "Training model on s27\n",
      "Training model on s28\n",
      "Training model on s29\n",
      "Training model on s30\n",
      "Training model on s31\n",
      "tracking experiment\n"
     ]
    },
    {
     "name": "stderr",
     "output_type": "stream",
     "text": [
      "psutil is not installed. You will not be able to abort this experiment from the UI.\n",
      "psutil is not installed. Hardware metrics will not be collected.\n"
     ]
    },
    {
     "name": "stdout",
     "output_type": "stream",
     "text": [
      "https://ui.neptune.ai/maedbhking/connectivity/e/CON-28\n",
      "training alpha 0\n",
      "Training model on s02\n",
      "Training model on s03\n",
      "Training model on s09\n",
      "Training model on s10\n",
      "Training model on s12\n",
      "Training model on s15\n",
      "Training model on s17\n",
      "Training model on s18\n",
      "Training model on s19\n",
      "Training model on s20\n",
      "Training model on s24\n",
      "Training model on s25\n",
      "Training model on s27\n",
      "Training model on s28\n",
      "Training model on s29\n",
      "Training model on s30\n",
      "Training model on s31\n",
      "tracking experiment\n"
     ]
    },
    {
     "name": "stderr",
     "output_type": "stream",
     "text": [
      "psutil is not installed. You will not be able to abort this experiment from the UI.\n",
      "psutil is not installed. Hardware metrics will not be collected.\n"
     ]
    },
    {
     "name": "stdout",
     "output_type": "stream",
     "text": [
      "https://ui.neptune.ai/maedbhking/connectivity/e/CON-29\n",
      "training alpha 2\n",
      "creating /Users/maedbhking/Documents/cerebellum_connectivity/data/sc2/conn_models/train/ridge_tesselsWB162_alpha_2\n",
      "Training model on s02\n",
      "Training model on s03\n",
      "Training model on s09\n",
      "Training model on s10\n",
      "Training model on s12\n",
      "Training model on s15\n",
      "Training model on s17\n",
      "Training model on s18\n",
      "Training model on s19\n",
      "Training model on s20\n",
      "Training model on s24\n",
      "Training model on s25\n",
      "Training model on s27\n",
      "Training model on s28\n",
      "Training model on s29\n",
      "Training model on s30\n",
      "Training model on s31\n",
      "tracking experiment\n"
     ]
    },
    {
     "name": "stderr",
     "output_type": "stream",
     "text": [
      "psutil is not installed. You will not be able to abort this experiment from the UI.\n",
      "psutil is not installed. Hardware metrics will not be collected.\n"
     ]
    },
    {
     "name": "stdout",
     "output_type": "stream",
     "text": [
      "https://ui.neptune.ai/maedbhking/connectivity/e/CON-30\n",
      "training alpha 4\n",
      "creating /Users/maedbhking/Documents/cerebellum_connectivity/data/sc2/conn_models/train/ridge_tesselsWB162_alpha_4\n",
      "Training model on s02\n",
      "Training model on s03\n",
      "Training model on s09\n",
      "Training model on s10\n",
      "Training model on s12\n",
      "Training model on s15\n",
      "Training model on s17\n",
      "Training model on s18\n",
      "Training model on s19\n",
      "Training model on s20\n",
      "Training model on s24\n",
      "Training model on s25\n",
      "Training model on s27\n",
      "Training model on s28\n",
      "Training model on s29\n",
      "Training model on s30\n",
      "Training model on s31\n",
      "tracking experiment\n"
     ]
    },
    {
     "name": "stderr",
     "output_type": "stream",
     "text": [
      "psutil is not installed. You will not be able to abort this experiment from the UI.\n",
      "psutil is not installed. Hardware metrics will not be collected.\n"
     ]
    },
    {
     "name": "stdout",
     "output_type": "stream",
     "text": [
      "https://ui.neptune.ai/maedbhking/connectivity/e/CON-31\n"
     ]
    }
   ],
   "source": [
    "# train and validate ridge model(s)\n",
    "\n",
    "# split subjects into train and hold out\n",
    "train_subjs, hold_out_subjs = run.split_subjects(const.return_subjs)\n",
    "\n",
    "for exp in ['sc1', 'sc2']:\n",
    "    run.train_ridge(log_alpha=[0,2,4],  # 0,2,4,6,8,10\n",
    "                    subj_id=train_subjs, \n",
    "                    train_exp=exp)\n"
   ]
  },
  {
   "cell_type": "code",
   "execution_count": 11,
   "metadata": {},
   "outputs": [
    {
     "data": {
      "text/plain": [
       "<Figure size 576x576 with 0 Axes>"
      ]
     },
     "metadata": {},
     "output_type": "display_data"
    },
    {
     "data": {
      "image/png": "[encoded data removed]",
      "text/plain": [
       "<Figure size 360x360 with 1 Axes>"
      ]
     },
     "metadata": {
      "needs_background": "light"
     },
     "output_type": "display_data"
    }
   ],
   "source": [
    "# plot alpha curve for train CVs\n",
    "\n",
    "df = vis_summary.train_summary()\n",
    "\n",
    "vis_summary.plot_train_predictions(dataframe=df, hue='train_Y_data');\n"
   ]
  },
  {
   "cell_type": "code",
   "execution_count": null,
   "metadata": {},
   "outputs": [],
   "source": [
    "# evaluate ridge model(s)\n",
    "\n",
    "resolution = 'tesselsWB162'\n",
    "\n",
    "# split subjects into train and hold out\n",
    "train_subjs, hold_out_subjs = run.split_subjects(const.return_subjs)\n",
    "\n",
    "for exp in range(2):\n",
    "    run.eval_ridge(log_alpha=[6], \n",
    "                   resolution=resolution, \n",
    "                   subj_id=train_subjs, \n",
    "                   train_exp=f'sc{2-exp}', \n",
    "                   eval_exp=f'sc{exp+1}')\n",
    "    "
   ]
  },
  {
   "cell_type": "code",
   "execution_count": 12,
   "metadata": {},
   "outputs": [
    {
     "data": {
      "image/png": "[encoded data removed]",
      "text/plain": [
       "<Figure size 576x576 with 1 Axes>"
      ]
     },
     "metadata": {
      "needs_background": "light"
     },
     "output_type": "display_data"
    }
   ],
   "source": [
    "# Model evaluation (noise ceiling and predictions)\n",
    "\n",
    "df_eval = vis_summary.eval_summary()\n",
    "\n",
    "vis_summary.plot_eval_predictions(dataframe=df_eval, best_alpha=6, hue='eval_Y_data')\n"
   ]
  },
  {
   "cell_type": "code",
   "execution_count": 14,
   "metadata": {},
   "outputs": [],
   "source": [
    "# plot model weights\n",
    "\n",
    "df = vis_summary.get_train_weights(model_name='ridge_tesselsWB162_alpha_6')\n"
   ]
  },
  {
   "cell_type": "code",
   "execution_count": null,
   "metadata": {},
   "outputs": [],
   "source": [
    "vis_summary.plot_train_weights(dataframe=df, hue='exp')"
   ]
  },
  {
   "cell_type": "code",
   "execution_count": null,
   "metadata": {},
   "outputs": [],
   "source": []
  }
 ],
 "metadata": {
  "kernelspec": {
   "display_name": "connectivity",
   "language": "python",
   "name": "connectivity"
  },
  "language_info": {
   "codemirror_mode": {
    "name": "ipython",
    "version": 3
   },
   "file_extension": ".py",
   "mimetype": "text/x-python",
   "name": "python",
   "nbconvert_exporter": "python",
   "pygments_lexer": "ipython3",
   "version": "3.7.8"
  }
 },
 "nbformat": 4,
 "nbformat_minor": 4
}
