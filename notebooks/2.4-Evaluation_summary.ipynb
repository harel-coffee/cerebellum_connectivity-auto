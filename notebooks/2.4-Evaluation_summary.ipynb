{
 "cells": [
  {
   "cell_type": "code",
   "execution_count": 1,
   "metadata": {},
   "outputs": [
    {
     "name": "stderr",
     "output_type": "stream",
     "text": [
      "/Users/jdiedrichsen/.local/share/virtualenvs/cerebellum_connectivity-lV1BGCUV/lib/python3.7/site-packages/nilearn/datasets/__init__.py:89: FutureWarning: Fetchers from the nilearn.datasets module will be updated in version 0.9 to return python strings instead of bytes and Pandas dataframes instead of Numpy arrays.\n",
      "  \"Numpy arrays.\", FutureWarning)\n"
     ]
    }
   ],
   "source": [
    "import numpy as np\n",
    "import pandas as pd\n",
    "import matplotlib.pyplot as plt \n",
    "import seaborn as sns\n",
    "import scipy.stats as ss \n",
    "\n",
    "import connectivity.constants as const\n",
    "from connectivity.data import Dataset\n",
    "import connectivity.model as model\n",
    "import connectivity.data as data\n",
    "import connectivity.run as run\n",
    "import connectivity.visualize as vis\n",
    "import connectivity.figures as fig \n"
   ]
  },
  {
   "cell_type": "markdown",
   "id": "dd1327e9",
   "metadata": {},
   "source": [
    "## Maedbh's original evaluation\n",
    "Unweighted, without instructions and unique"
   ]
  },
  {
   "cell_type": "code",
   "execution_count": 2,
   "id": "77c9ca00",
   "metadata": {},
   "outputs": [],
   "source": [
    "df = vis.eval_summary(exps=['sc2'])"
   ]
  },
  {
   "cell_type": "code",
   "execution_count": 4,
   "id": "d3625da6",
   "metadata": {},
   "outputs": [
    {
     "data": {
      "text/html": [
       "<div>\n",
       "<style scoped>\n",
       "    .dataframe tbody tr th:only-of-type {\n",
       "        vertical-align: middle;\n",
       "    }\n",
       "\n",
       "    .dataframe tbody tr th {\n",
       "        vertical-align: top;\n",
       "    }\n",
       "\n",
       "    .dataframe thead th {\n",
       "        text-align: right;\n",
       "    }\n",
       "</style>\n",
       "<table border=\"1\" class=\"dataframe\">\n",
       "  <thead>\n",
       "    <tr style=\"text-align: right;\">\n",
       "      <th></th>\n",
       "      <th>method</th>\n",
       "      <th>WTA</th>\n",
       "      <th>lasso</th>\n",
       "      <th>ridge</th>\n",
       "    </tr>\n",
       "    <tr>\n",
       "      <th>atlas</th>\n",
       "      <th>num_regions</th>\n",
       "      <th></th>\n",
       "      <th></th>\n",
       "      <th></th>\n",
       "    </tr>\n",
       "  </thead>\n",
       "  <tbody>\n",
       "    <tr>\n",
       "      <th rowspan=\"4\" valign=\"top\">arslan</th>\n",
       "      <th>50</th>\n",
       "      <td>24.0</td>\n",
       "      <td>24.0</td>\n",
       "      <td>24.0</td>\n",
       "    </tr>\n",
       "    <tr>\n",
       "      <th>100</th>\n",
       "      <td>24.0</td>\n",
       "      <td>NaN</td>\n",
       "      <td>24.0</td>\n",
       "    </tr>\n",
       "    <tr>\n",
       "      <th>200</th>\n",
       "      <td>24.0</td>\n",
       "      <td>NaN</td>\n",
       "      <td>24.0</td>\n",
       "    </tr>\n",
       "    <tr>\n",
       "      <th>250</th>\n",
       "      <td>24.0</td>\n",
       "      <td>NaN</td>\n",
       "      <td>24.0</td>\n",
       "    </tr>\n",
       "    <tr>\n",
       "      <th>baldassano</th>\n",
       "      <th>171</th>\n",
       "      <td>NaN</td>\n",
       "      <td>24.0</td>\n",
       "      <td>NaN</td>\n",
       "    </tr>\n",
       "    <tr>\n",
       "      <th>fan</th>\n",
       "      <th>210</th>\n",
       "      <td>24.0</td>\n",
       "      <td>24.0</td>\n",
       "      <td>24.0</td>\n",
       "    </tr>\n",
       "    <tr>\n",
       "      <th>glasser</th>\n",
       "      <th>360</th>\n",
       "      <td>NaN</td>\n",
       "      <td>24.0</td>\n",
       "      <td>NaN</td>\n",
       "    </tr>\n",
       "    <tr>\n",
       "      <th>gordon</th>\n",
       "      <th>333</th>\n",
       "      <td>24.0</td>\n",
       "      <td>24.0</td>\n",
       "      <td>24.0</td>\n",
       "    </tr>\n",
       "    <tr>\n",
       "      <th rowspan=\"9\" valign=\"top\">mdtb</th>\n",
       "      <th>7</th>\n",
       "      <td>48.0</td>\n",
       "      <td>NaN</td>\n",
       "      <td>48.0</td>\n",
       "    </tr>\n",
       "    <tr>\n",
       "      <th>10</th>\n",
       "      <td>24.0</td>\n",
       "      <td>NaN</td>\n",
       "      <td>24.0</td>\n",
       "    </tr>\n",
       "    <tr>\n",
       "      <th>14</th>\n",
       "      <td>24.0</td>\n",
       "      <td>NaN</td>\n",
       "      <td>24.0</td>\n",
       "    </tr>\n",
       "    <tr>\n",
       "      <th>17</th>\n",
       "      <td>24.0</td>\n",
       "      <td>NaN</td>\n",
       "      <td>24.0</td>\n",
       "    </tr>\n",
       "    <tr>\n",
       "      <th>25</th>\n",
       "      <td>24.0</td>\n",
       "      <td>NaN</td>\n",
       "      <td>24.0</td>\n",
       "    </tr>\n",
       "    <tr>\n",
       "      <th>50</th>\n",
       "      <td>24.0</td>\n",
       "      <td>NaN</td>\n",
       "      <td>24.0</td>\n",
       "    </tr>\n",
       "    <tr>\n",
       "      <th>100</th>\n",
       "      <td>24.0</td>\n",
       "      <td>NaN</td>\n",
       "      <td>24.0</td>\n",
       "    </tr>\n",
       "    <tr>\n",
       "      <th>200</th>\n",
       "      <td>24.0</td>\n",
       "      <td>NaN</td>\n",
       "      <td>24.0</td>\n",
       "    </tr>\n",
       "    <tr>\n",
       "      <th>300</th>\n",
       "      <td>24.0</td>\n",
       "      <td>NaN</td>\n",
       "      <td>24.0</td>\n",
       "    </tr>\n",
       "    <tr>\n",
       "      <th rowspan=\"3\" valign=\"top\">schaefer</th>\n",
       "      <th>100</th>\n",
       "      <td>24.0</td>\n",
       "      <td>24.0</td>\n",
       "      <td>24.0</td>\n",
       "    </tr>\n",
       "    <tr>\n",
       "      <th>200</th>\n",
       "      <td>24.0</td>\n",
       "      <td>24.0</td>\n",
       "      <td>24.0</td>\n",
       "    </tr>\n",
       "    <tr>\n",
       "      <th>300</th>\n",
       "      <td>24.0</td>\n",
       "      <td>24.0</td>\n",
       "      <td>24.0</td>\n",
       "    </tr>\n",
       "    <tr>\n",
       "      <th>shen</th>\n",
       "      <th>200</th>\n",
       "      <td>24.0</td>\n",
       "      <td>24.0</td>\n",
       "      <td>24.0</td>\n",
       "    </tr>\n",
       "    <tr>\n",
       "      <th rowspan=\"5\" valign=\"top\">tessels</th>\n",
       "      <th>80</th>\n",
       "      <td>24.0</td>\n",
       "      <td>24.0</td>\n",
       "      <td>24.0</td>\n",
       "    </tr>\n",
       "    <tr>\n",
       "      <th>304</th>\n",
       "      <td>24.0</td>\n",
       "      <td>24.0</td>\n",
       "      <td>24.0</td>\n",
       "    </tr>\n",
       "    <tr>\n",
       "      <th>670</th>\n",
       "      <td>24.0</td>\n",
       "      <td>24.0</td>\n",
       "      <td>24.0</td>\n",
       "    </tr>\n",
       "    <tr>\n",
       "      <th>1190</th>\n",
       "      <td>24.0</td>\n",
       "      <td>24.0</td>\n",
       "      <td>24.0</td>\n",
       "    </tr>\n",
       "    <tr>\n",
       "      <th>1848</th>\n",
       "      <td>24.0</td>\n",
       "      <td>24.0</td>\n",
       "      <td>24.0</td>\n",
       "    </tr>\n",
       "    <tr>\n",
       "      <th rowspan=\"2\" valign=\"top\">yeo</th>\n",
       "      <th>7</th>\n",
       "      <td>24.0</td>\n",
       "      <td>24.0</td>\n",
       "      <td>24.0</td>\n",
       "    </tr>\n",
       "    <tr>\n",
       "      <th>17</th>\n",
       "      <td>24.0</td>\n",
       "      <td>24.0</td>\n",
       "      <td>24.0</td>\n",
       "    </tr>\n",
       "  </tbody>\n",
       "</table>\n",
       "</div>"
      ],
      "text/plain": [
       "method                   WTA  lasso  ridge\n",
       "atlas      num_regions                    \n",
       "arslan     50           24.0   24.0   24.0\n",
       "           100          24.0    NaN   24.0\n",
       "           200          24.0    NaN   24.0\n",
       "           250          24.0    NaN   24.0\n",
       "baldassano 171           NaN   24.0    NaN\n",
       "fan        210          24.0   24.0   24.0\n",
       "glasser    360           NaN   24.0    NaN\n",
       "gordon     333          24.0   24.0   24.0\n",
       "mdtb       7            48.0    NaN   48.0\n",
       "           10           24.0    NaN   24.0\n",
       "           14           24.0    NaN   24.0\n",
       "           17           24.0    NaN   24.0\n",
       "           25           24.0    NaN   24.0\n",
       "           50           24.0    NaN   24.0\n",
       "           100          24.0    NaN   24.0\n",
       "           200          24.0    NaN   24.0\n",
       "           300          24.0    NaN   24.0\n",
       "schaefer   100          24.0   24.0   24.0\n",
       "           200          24.0   24.0   24.0\n",
       "           300          24.0   24.0   24.0\n",
       "shen       200          24.0   24.0   24.0\n",
       "tessels    80           24.0   24.0   24.0\n",
       "           304          24.0   24.0   24.0\n",
       "           670          24.0   24.0   24.0\n",
       "           1190         24.0   24.0   24.0\n",
       "           1848         24.0   24.0   24.0\n",
       "yeo        7            24.0   24.0   24.0\n",
       "           17           24.0   24.0   24.0"
      ]
     },
     "execution_count": 4,
     "metadata": {},
     "output_type": "execute_result"
    }
   ],
   "source": [
    "pd.pivot_table(df,values='R_eval',index=['atlas','num_regions'],columns='method',aggfunc=len)"
   ]
  },
  {
   "cell_type": "code",
   "execution_count": 9,
   "id": "cd9318f7",
   "metadata": {},
   "outputs": [
    {
     "name": "stdout",
     "output_type": "stream",
     "text": [
      "[  80  304  670 1190 1848]\n",
      "Index(['Unnamed: 0', 'rmse_eval', 'subj_id', 'num_regions', 'name', 'glm',\n",
      "       'train_exp', 'eval_exp', 'averaging', 'weighting', 'incl_inst',\n",
      "       'X_data', 'Y_data', 'mode', 'splitby', 'save_maps', 'threshold',\n",
      "       'exclude_instruct', 'R_eval', 'R2', 'noise_Y_R', 'noise_Y_R2',\n",
      "       'noise_X_R', 'noise_X_R2', 'timestamp', 'atlas', 'method',\n",
      "       'noiseceiling_Y', 'noiseceiling_XY'],\n",
      "      dtype='object')\n"
     ]
    }
   ],
   "source": [
    "# Select the right atlasses \n",
    "atlases = ['yeo','tessels','shen','gordon','fan']\n",
    "atlases = ['tessels']\n",
    "D = df[df['atlas'].isin(atlases)]\n",
    "print(np.unique(D.num_regions))\n",
    "print(D.columns)\n"
   ]
  },
  {
   "cell_type": "code",
   "execution_count": 10,
   "id": "c41f7c00",
   "metadata": {},
   "outputs": [
    {
     "data": {
      "text/plain": [
       "<AxesSubplot:xlabel='num_regions'>"
      ]
     },
     "execution_count": 10,
     "metadata": {},
     "output_type": "execute_result"
    },
    {
     "data": {
      "image/png": "[encoded data removed]",
      "text/plain": [
       "<Figure size 432x288 with 1 Axes>"
      ]
     },
     "metadata": {
      "needs_background": "light"
     },
     "output_type": "display_data"
    }
   ],
   "source": [
    "sns.lineplot(data=D,x='num_regions',y=D.R_eval/D.noiseceiling_XY,hue='method')"
   ]
  },
  {
   "cell_type": "code",
   "execution_count": 13,
   "id": "574a3c5d",
   "metadata": {},
   "outputs": [
    {
     "data": {
      "text/plain": [
       "Ttest_relResult(statistic=-1.0746759012848557, pvalue=0.29416569140707194)"
      ]
     },
     "execution_count": 13,
     "metadata": {},
     "output_type": "execute_result"
    }
   ],
   "source": [
    "D1= df[np.logical_and(df.atlas=='tessels',df.num_regions==80)]\n",
    "D1['R_std']=D1.R_eval/D1.noiseceiling_XY\n",
    "T=pd.pivot_table(D1,values='R_std',index='subj_id',columns='method',aggfunc=np.mean)\n",
    "ss.ttest_rel(T.WTA,T.ridge,nan_policy='omit')\n"
   ]
  },
  {
   "cell_type": "markdown",
   "id": "2718f05f",
   "metadata": {},
   "source": [
    "# New evaluation\n",
    "Weighted-including all "
   ]
  },
  {
   "cell_type": "code",
   "execution_count": 15,
   "id": "c3ed935a",
   "metadata": {},
   "outputs": [],
   "source": [
    "df = vis.eval_summary(eval_name=\"weighted_all\",exps=['sc2'])"
   ]
  },
  {
   "cell_type": "code",
   "execution_count": 20,
   "id": "6e97fdaa",
   "metadata": {},
   "outputs": [
    {
     "data": {
      "text/plain": [
       "<AxesSubplot:xlabel='num_regions'>"
      ]
     },
     "execution_count": 20,
     "metadata": {},
     "output_type": "execute_result"
    },
    {
     "data": {
      "image/png": "[encoded data removed]",
      "text/plain": [
       "<Figure size 432x288 with 1 Axes>"
      ]
     },
     "metadata": {
      "needs_background": "light"
     },
     "output_type": "display_data"
    }
   ],
   "source": [
    "sns.lineplot(data=df,x='num_regions',y=df.R_eval/df.noiseceiling_XY,hue='method')"
   ]
  },
  {
   "cell_type": "code",
   "execution_count": 21,
   "id": "c67beaee",
   "metadata": {},
   "outputs": [
    {
     "data": {
      "text/plain": [
       "Ttest_relResult(statistic=-6.590789670603441, pvalue=1.0043418593357319e-06)"
      ]
     },
     "execution_count": 21,
     "metadata": {},
     "output_type": "execute_result"
    }
   ],
   "source": [
    "D1= df[np.logical_and(df.atlas=='tessels',df.num_regions==80)]\n",
    "D1['R_std']=D1.R_eval/D1.noiseceiling_XY\n",
    "T=pd.pivot_table(D1,values='R_std',index='subj_id',columns='method',aggfunc=np.mean)\n",
    "ss.ttest_rel(T.WTA,T.ridge,nan_policy='omit')"
   ]
  }
 ],
 "metadata": {
  "interpreter": {
   "hash": "c4697d38e5059af475208f3f9ccebc7bca3e15a44206b3912496cf52f5ea4795"
  },
  "kernelspec": {
   "display_name": "Python 3.7.0 64-bit ('cerebellum_connectivity-lV1BGCUV': pipenv)",
   "language": "python",
   "name": "python3"
  },
  "language_info": {
   "codemirror_mode": {
    "name": "ipython",
    "version": 3
   },
   "file_extension": ".py",
   "mimetype": "text/x-python",
   "name": "python",
   "nbconvert_exporter": "python",
   "pygments_lexer": "ipython3",
   "version": "3.7.0"
  }
 },
 "nbformat": 4,
 "nbformat_minor": 5
}
