{
 "cells": [
  {
   "cell_type": "markdown",
   "metadata": {},
   "source": [
    "## Demonstration of equivalence of weighted-beta and predicted time-series evaluation \n",
    "This notebook tests (by simulation) different ways of evaluating connectivity models. \n",
    "\n",
    "Because we have different regressors (intruction, and condition-related regressors of different length), the best way would be to evaluate on the predicted time series - of course subtracting out the mean of the time series. \n",
    "\n",
    "To achive this is a computationally efficient manner, we play the following trick: The reconstructed (task-related) time series is:\n",
    "\n",
    "$$ \\mathbf{Y} = \\mathbf{X} \\boldsymbol{\\beta}$$ \n",
    "\n",
    "The cosine similarity is then \n",
    "$$ r = \\frac{\\mathbf{Y}^T \\hat{\\mathbf{Y}}}{\\sqrt{\\mathbf{Y}^T\\mathbf{Y}}\\sqrt{\\hat{\\mathbf{Y}}^T\\hat{\\mathbf{Y}}}}$$\n",
    "\n",
    "So we can just calculate the dot product of the observed by predicted and observed time series: \n",
    "\n",
    "$$ \\mathbf{Y}^T \\hat{\\mathbf{Y}}  = \\boldsymbol{\\beta}^T\\mathbf{X}^T \\mathbf{X} \\hat{\\boldsymbol{\\beta}}$$\n",
    "\n",
    "By Introducing a weighting matrix, which can be smaller than the original design matrix (using scipy.linalg.sqrtm)\n",
    "\n",
    "$$ \\mathbf{W}\\mathbf{W} = \\mathbf{X}.T\\mathbf{X}$$ \n",
    "\n",
    "and to the inner product of the weight beta-coefficients: \n",
    "$$ \\boldsymbol{\\beta}^T\\mathbf{W}^T \\mathbf{W} \\hat{\\boldsymbol{\\beta}}$$\n",
    "\n",
    "The other terms of the cosine similartity can also be computed from the weighted betas. This trick also works for the R2 measure, it is also depends on the quadrative forms above. \n",
    "\n",
    "Note that the mean of the weighted betas: \n",
    "\n",
    "$$ \\boldsymbol{\\beta}_w = \\mathbf{W}\\boldsymbol{\\beta}$$ \n",
    "is not zero - even though they represent a mean-centered time-series. So Cosine-similarity and R2 calculation should not subtract the mean of the beta (or weighted beta) coefficients. "
   ]
  },
  {
   "cell_type": "code",
   "execution_count": 66,
   "metadata": {},
   "outputs": [],
   "source": [
    "import numpy as np \n",
    "from scipy.io import loadmat \n",
    "import seaborn as sb\n",
    "import matplotlib.pyplot as plt\n",
    "from numpy.linalg import pinv\n",
    "from scipy.linalg import sqrtm # Any matrix decomposition will work (Cholesky), but sqrtm is symmetric\n",
    "import connectivity.evaluation as ev # Evaluation routine "
   ]
  },
  {
   "cell_type": "code",
   "execution_count": 67,
   "metadata": {},
   "outputs": [
    {
     "data": {
      "text/plain": [
       "(598, 46)"
      ]
     },
     "execution_count": 67,
     "metadata": {},
     "output_type": "execute_result"
    },
    {
     "data": {
      "image/png": "[encoded data removed]",
      "text/plain": [
       "<Figure size 432x288 with 1 Axes>"
      ]
     },
     "metadata": {
      "needs_background": "light"
     },
     "output_type": "display_data"
    }
   ],
   "source": [
    "# Load an example design matrix with instruction and condition regressors\n",
    "F = loadmat('designmatrix.mat')\n",
    "X = F['X']\n",
    "plt.imshow(X,aspect='auto')\n",
    "X.shape"
   ]
  },
  {
   "cell_type": "code",
   "execution_count": 68,
   "metadata": {},
   "outputs": [],
   "source": [
    "# Generate example data for a single voxel  \n",
    "N = X.shape[0] # Number of time points \n",
    "K = 5 # Number of runs\n",
    "beta = np.random.normal(1,1,(46,1)) # Note that the beta weights are mostly postive \n",
    "Ytrue = X @ beta\n",
    "Y = np.random.normal(0,10,(N,K)) + Ytrue # Generate raw data "
   ]
  },
  {
   "cell_type": "code",
   "execution_count": 69,
   "metadata": {},
   "outputs": [],
   "source": [
    "# Now estimate back the regression coefficients using OLS regression \n",
    "# Of course, SPM uses GLS with covariance weighting, but we are skipping this here\n",
    "Xall = np.c_[X,np.ones((N,))] # Add intercept to the design matrix \n",
    "beta_hat = pinv(Xall) @ Y        # OLS regression  \n",
    "beta_hat = beta_hat[:-1,:]      # Drop intercept "
   ]
  },
  {
   "cell_type": "code",
   "execution_count": 70,
   "metadata": {},
   "outputs": [
    {
     "name": "stdout",
     "output_type": "stream",
     "text": [
      "R timeseries: [0.357 0.298 0.126 0.496 0.53 ]\n"
     ]
    }
   ],
   "source": [
    "# Ideally we would like to do the evaluation on the predicted time series - mean subtracted \n",
    "Xm = X - X.mean(axis = 0) # Remove the mean from each of the regressors \n",
    "Ytrue = Xm @ beta   # This is the true time series \n",
    "Ytask = Xm @ beta_hat # Task-related time-series from the fit \n",
    "_,R1 = ev.calculate_R(Ytask,Ytrue)\n",
    "print(f'R timeseries: {R1.round(3)}')\n"
   ]
  },
  {
   "cell_type": "code",
   "execution_count": 71,
   "metadata": {},
   "outputs": [
    {
     "name": "stdout",
     "output_type": "stream",
     "text": [
      "R beta w  mean:[0.77  0.68  0.706 0.834 0.61 ]\n"
     ]
    }
   ],
   "source": [
    "# This is the beta-only approach without subtracting mean of betas \n",
    "_,R2 = ev.calculate_R(beta_hat,beta)\n",
    "print(f'R beta w  mean:{R2.round(3)}')"
   ]
  },
  {
   "cell_type": "code",
   "execution_count": 72,
   "metadata": {},
   "outputs": [
    {
     "name": "stdout",
     "output_type": "stream",
     "text": [
      "R beta wo mean:[0.291 0.337 0.141 0.483 0.374]\n"
     ]
    }
   ],
   "source": [
    "# Now do beta with mean-substraction \n",
    "beta_hat_m = beta_hat-beta_hat.mean(axis = 0)\n",
    "beta_m = beta-beta.mean(axis = 0)\n",
    "                                   \n",
    "_,R3 = ev.calculate_R(beta_hat_m,beta_m)\n",
    "print(f'R beta wo mean:{R3.round(3)}')"
   ]
  },
  {
   "cell_type": "code",
   "execution_count": 73,
   "metadata": {},
   "outputs": [
    {
     "name": "stdout",
     "output_type": "stream",
     "text": [
      "R beta weighted:[0.357 0.298 0.126 0.496 0.53 ]\n"
     ]
    }
   ],
   "source": [
    "# Instead do weighting - As you can confirm - this is identical to the predicted time series \n",
    "W = sqrtm(Xm.T @ X)\n",
    "beta_hat_w = W @ beta_hat\n",
    "beta_w     = W @ beta\n",
    "\n",
    "_,R4 = ev.calculate_R(beta_hat_w,beta_w)\n",
    "print(f'R beta weighted:{R4.round(3)}')"
   ]
  },
  {
   "cell_type": "code",
   "execution_count": 75,
   "metadata": {},
   "outputs": [
    {
     "name": "stdout",
     "output_type": "stream",
     "text": [
      "R timeseries:   [ 0.126  0.088 -0.004  0.216  0.248]\n",
      "R beta w  mean: [0.28  0.299 0.245 0.291 0.326]\n",
      "R beta wo mean: [0.082 0.1   0.014 0.17  0.131]\n",
      "R beta weighted:[ 0.126  0.088 -0.004  0.216  0.248]\n"
     ]
    }
   ],
   "source": [
    "# This trick also works for the R2-value: \n",
    "_,R21 = ev.calculate_R2(Ytask,Ytrue)\n",
    "print(f'R timeseries:   {R21.round(3)}')\n",
    "_,R22 = ev.calculate_R2(beta_hat,beta)\n",
    "print(f'R beta w  mean: {R22.round(3)}')\n",
    "_,R23 = ev.calculate_R2(beta_hat_m,beta_m)\n",
    "print(f'R beta wo mean: {R23.round(3)}')\n",
    "_,R24 = ev.calculate_R2(beta_hat_w,beta_w)\n",
    "print(f'R beta weighted:{R24.round(3)}')"
   ]
  },
  {
   "cell_type": "code",
   "execution_count": null,
   "metadata": {},
   "outputs": [],
   "source": []
  }
 ],
 "metadata": {
  "kernelspec": {
   "display_name": "Python 3",
   "language": "python",
   "name": "python3"
  },
  "language_info": {
   "codemirror_mode": {
    "name": "ipython",
    "version": 3
   },
   "file_extension": ".py",
   "mimetype": "text/x-python",
   "name": "python",
   "nbconvert_exporter": "python",
   "pygments_lexer": "ipython3",
   "version": "3.7.6"
  }
 },
 "nbformat": 4,
 "nbformat_minor": 4
}
