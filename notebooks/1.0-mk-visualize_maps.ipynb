{
 "cells": [
  {
   "cell_type": "code",
   "execution_count": 1,
   "metadata": {
    "tags": []
   },
   "outputs": [],
   "source": [
    "import os\n",
    "\n",
    "import matplotlib.pyplot as plt\n",
    "import numpy as np\n",
    "import seaborn as sns\n",
    "from IPython.display import display\n",
    "\n",
    "from connectivity.visualization.visualize import PlotPred, MapCerebellum, MapCortex\n",
    "from connectivity import io\n",
    "from connectivity.constants import Defaults, Dirs\n",
    "\n",
    "import warnings\n",
    "warnings.filterwarnings('ignore')\n",
    "\n",
    "%matplotlib inline\n",
    "\n",
    "%load_ext autoreload\n",
    "%autoreload 2\n",
    "\n",
    "# @authors: Maedbh King"
   ]
  },
  {
   "cell_type": "code",
   "execution_count": 2,
   "metadata": {},
   "outputs": [],
   "source": [
    "# define dirs class\n",
    "defaults = Defaults()"
   ]
  },
  {
   "cell_type": "code",
   "execution_count": 76,
   "metadata": {
    "scrolled": false,
    "tags": []
   },
   "outputs": [
    {
     "output_type": "stream",
     "name": "stdout",
     "text": "/Users/maedbhking/Documents/cerebellum_connectivity/data/sc1/conn_models/glm7/eval/tesselsWB642_grey_nan_l2_regress_2020-09-24_06:06:29.h5 contains vox data\n/Users/maedbhking/Documents/cerebellum_connectivity/data/sc2/conn_models/glm7/eval/tesselsWB642_grey_nan_l2_regress_2020-09-24_05:44:37.h5 contains vox data\n/Users/maedbhking/Documents/cerebellum_connectivity/data/sc1/conn_models/glm7/eval/tesselsWB642_grey_nan_l2_regress_2020-09-24_06:06:29.h5 contains vox data\n/Users/maedbhking/Documents/cerebellum_connectivity/data/sc2/conn_models/glm7/eval/tesselsWB642_grey_nan_l2_regress_2020-09-24_05:44:37.h5 contains vox data\n{'eval_X_file_dir': 'encoding',\n 'eval_X_roi': 'tesselsWB642',\n 'eval_X_structure': 'cortex',\n 'eval_Y_file_dir': 'encoding',\n 'eval_Y_roi': 'grey_nan',\n 'eval_Y_structure': 'cerebellum',\n 'eval_avg': 'run',\n 'eval_glm': 7,\n 'eval_good_vox': False,\n 'eval_incl_inst': True,\n 'eval_on': 'sc1',\n 'eval_save_maps': True,\n 'eval_scale': True,\n 'eval_sessions': [1, 2],\n 'eval_sparse_matrix': False,\n 'eval_splitby': None,\n 'eval_splits': ['all-cond'],\n 'eval_stim': 'cond',\n 'eval_subjects': [2, 3, 4, 6, 8, 9, 10, 12, 14, 15, 17, 18, 19, 20, 21, 22, 24,\n                   25, 26, 27, 28, 29, 30, 31],\n 'eval_subtract_exp_mean': True,\n 'eval_subtract_sess_mean': True,\n 'lambdas': [1292],\n 'model_fname': 'tesselsWB642_grey_nan_l2_regress_2020-09-24_05:44:58.json',\n 'model_name': 'l2_regress',\n 'train_X_file_dir': 'encoding',\n 'train_X_roi': 'tesselsWB642',\n 'train_X_structure': 'cortex',\n 'train_Y_file_dir': 'encoding',\n 'train_Y_roi': 'grey_nan',\n 'train_Y_structure': 'cerebellum',\n 'train_avg': 'run',\n 'train_glm': 7,\n 'train_incl_inst': True,\n 'train_mode': 'crossed',\n 'train_on': 'sc2',\n 'train_scale': True,\n 'train_sessions': [1, 2],\n 'train_stim': 'cond',\n 'train_subjects': [2, 3, 4, 6, 8, 9, 10, 12, 14, 15, 17, 18, 19, 20, 21, 22,\n                    24, 25, 26, 27, 28, 29, 30, 31],\n 'train_subtract_exp_mean': True,\n 'train_subtract_sess_mean': True}\n{'eval_X_file_dir': 'encoding',\n 'eval_X_roi': 'tesselsWB642',\n 'eval_X_structure': 'cortex',\n 'eval_Y_file_dir': 'encoding',\n 'eval_Y_roi': 'grey_nan',\n 'eval_Y_structure': 'cerebellum',\n 'eval_avg': 'run',\n 'eval_glm': 7,\n 'eval_good_vox': False,\n 'eval_incl_inst': True,\n 'eval_on': 'sc2',\n 'eval_save_maps': True,\n 'eval_scale': True,\n 'eval_sessions': [1, 2],\n 'eval_sparse_matrix': False,\n 'eval_splitby': None,\n 'eval_splits': ['all-cond'],\n 'eval_stim': 'cond',\n 'eval_subjects': [2, 3, 4, 6, 8, 9, 10, 12, 14, 15, 17, 18, 19, 20, 21, 22, 24,\n                   25, 26, 27, 28, 29, 30, 31],\n 'eval_subtract_exp_mean': True,\n 'eval_subtract_sess_mean': True,\n 'lambdas': [1292],\n 'model_fname': 'tesselsWB642_grey_nan_l2_regress_2020-09-24_05:24:45.json',\n 'model_name': 'l2_regress',\n 'train_X_file_dir': 'encoding',\n 'train_X_roi': 'tesselsWB642',\n 'train_X_structure': 'cortex',\n 'train_Y_file_dir': 'encoding',\n 'train_Y_roi': 'grey_nan',\n 'train_Y_structure': 'cerebellum',\n 'train_avg': 'run',\n 'train_glm': 7,\n 'train_incl_inst': True,\n 'train_mode': 'crossed',\n 'train_on': 'sc1',\n 'train_scale': True,\n 'train_sessions': [1, 2],\n 'train_stim': 'cond',\n 'train_subjects': [2, 3, 4, 6, 8, 9, 10, 12, 14, 15, 17, 18, 19, 20, 21, 22,\n                    24, 25, 26, 27, 28, 29, 30, 31],\n 'train_subtract_exp_mean': True,\n 'train_subtract_sess_mean': True}\n"
    }
   ],
   "source": [
    "# get visualize config file for cerebellum\n",
    "config = io.read_json(str(defaults.visualize_cerebellum_config))\n",
    "\n",
    "# define class for plotting on CEREBELLUM\n",
    "map_pred = MapCerebellum(config, eval_on=['sc1', 'sc2'], eval_name='tesselsWB642_grey_nan_l2_regress', view='browser', data_type='R_noise_high')\n",
    "\n",
    "map_pred.save_data_to_nifti()\n",
    "\n",
    "# visualize group map\n",
    "map_pred.visualize_group()"
   ]
  },
  {
   "cell_type": "code",
   "execution_count": 72,
   "metadata": {
    "scrolled": false,
    "tags": []
   },
   "outputs": [
    {
     "output_type": "error",
     "ename": "ValueError",
     "evalue": "No objects to concatenate",
     "traceback": [
      "\u001b[0;31m---------------------------------------------------------------------------\u001b[0m",
      "\u001b[0;31mValueError\u001b[0m                                Traceback (most recent call last)",
      "\u001b[0;32m<ipython-input-72-4dd6089ca2f0>\u001b[0m in \u001b[0;36m<module>\u001b[0;34m\u001b[0m\n\u001b[1;32m      3\u001b[0m \u001b[0;34m\u001b[0m\u001b[0m\n\u001b[1;32m      4\u001b[0m \u001b[0;31m# load dataframe\u001b[0m\u001b[0;34m\u001b[0m\u001b[0;34m\u001b[0m\u001b[0;34m\u001b[0m\u001b[0m\n\u001b[0;32m----> 5\u001b[0;31m \u001b[0mdataframe\u001b[0m \u001b[0;34m=\u001b[0m \u001b[0mpred\u001b[0m\u001b[0;34m.\u001b[0m\u001b[0mload_dataframe\u001b[0m\u001b[0;34m(\u001b[0m\u001b[0;34m)\u001b[0m\u001b[0;34m\u001b[0m\u001b[0;34m\u001b[0m\u001b[0m\n\u001b[0m\u001b[1;32m      6\u001b[0m \u001b[0;34m\u001b[0m\u001b[0m\n\u001b[1;32m      7\u001b[0m \u001b[0;31m# plot graph\u001b[0m\u001b[0;34m\u001b[0m\u001b[0;34m\u001b[0m\u001b[0;34m\u001b[0m\u001b[0m\n",
      "\u001b[0;32m~/Documents/cerebellum_connectivity/connectivity/visualization/visualize.py\u001b[0m in \u001b[0;36mload_dataframe\u001b[0;34m(self)\u001b[0m\n\u001b[1;32m    194\u001b[0m \u001b[0;34m\u001b[0m\u001b[0m\n\u001b[1;32m    195\u001b[0m                 \u001b[0;31m# read data to dataframe\u001b[0m\u001b[0;34m\u001b[0m\u001b[0;34m\u001b[0m\u001b[0;34m\u001b[0m\u001b[0m\n\u001b[0;32m--> 196\u001b[0;31m                 \u001b[0mdf_all\u001b[0m \u001b[0;34m=\u001b[0m \u001b[0mpd\u001b[0m\u001b[0;34m.\u001b[0m\u001b[0mconcat\u001b[0m\u001b[0;34m(\u001b[0m\u001b[0;34m[\u001b[0m\u001b[0mdf_all\u001b[0m\u001b[0;34m,\u001b[0m \u001b[0mself\u001b[0m\u001b[0;34m.\u001b[0m\u001b[0mread_to_dataframe\u001b[0m\u001b[0;34m(\u001b[0m\u001b[0mfiles\u001b[0m\u001b[0;34m=\u001b[0m\u001b[0mfnames\u001b[0m\u001b[0;34m)\u001b[0m\u001b[0;34m]\u001b[0m\u001b[0;34m)\u001b[0m\u001b[0;34m\u001b[0m\u001b[0;34m\u001b[0m\u001b[0m\n\u001b[0m\u001b[1;32m    197\u001b[0m \u001b[0;34m\u001b[0m\u001b[0m\n\u001b[1;32m    198\u001b[0m         \u001b[0;31m# filter dataframe with based on args\u001b[0m\u001b[0;34m\u001b[0m\u001b[0;34m\u001b[0m\u001b[0;34m\u001b[0m\u001b[0m\n",
      "\u001b[0;32m~/Documents/cerebellum_connectivity/connectivity/visualization/visualize.py\u001b[0m in \u001b[0;36mread_to_dataframe\u001b[0;34m(self, files)\u001b[0m\n\u001b[1;32m    137\u001b[0m         \u001b[0mcols_to_stack\u001b[0m \u001b[0;34m=\u001b[0m \u001b[0;34m[\u001b[0m\u001b[0mcol\u001b[0m \u001b[0;32mfor\u001b[0m \u001b[0mcol\u001b[0m \u001b[0;32min\u001b[0m \u001b[0mdf_all\u001b[0m\u001b[0;34m.\u001b[0m\u001b[0mcolumns\u001b[0m \u001b[0;32mif\u001b[0m \u001b[0;34m'R_'\u001b[0m \u001b[0;32min\u001b[0m \u001b[0mcol\u001b[0m\u001b[0;34m]\u001b[0m\u001b[0;34m\u001b[0m\u001b[0;34m\u001b[0m\u001b[0m\n\u001b[1;32m    138\u001b[0m         \u001b[0mcols_to_stack\u001b[0m\u001b[0;34m.\u001b[0m\u001b[0mextend\u001b[0m\u001b[0;34m(\u001b[0m\u001b[0;34m[\u001b[0m\u001b[0mcol\u001b[0m \u001b[0;32mfor\u001b[0m \u001b[0mcol\u001b[0m \u001b[0;32min\u001b[0m \u001b[0mdf_all\u001b[0m\u001b[0;34m.\u001b[0m\u001b[0mcolumns\u001b[0m \u001b[0;32mif\u001b[0m \u001b[0;34m'S_'\u001b[0m \u001b[0;32min\u001b[0m \u001b[0mcol\u001b[0m\u001b[0;34m]\u001b[0m\u001b[0;34m)\u001b[0m\u001b[0;34m\u001b[0m\u001b[0;34m\u001b[0m\u001b[0m\n\u001b[0;32m--> 139\u001b[0;31m         \u001b[0mdf1\u001b[0m \u001b[0;34m=\u001b[0m \u001b[0mpd\u001b[0m\u001b[0;34m.\u001b[0m\u001b[0mconcat\u001b[0m\u001b[0;34m(\u001b[0m\u001b[0;34m[\u001b[0m\u001b[0mdf_all\u001b[0m\u001b[0;34m]\u001b[0m\u001b[0;34m*\u001b[0m\u001b[0mlen\u001b[0m\u001b[0;34m(\u001b[0m\u001b[0mcols_to_stack\u001b[0m\u001b[0;34m)\u001b[0m\u001b[0;34m)\u001b[0m\u001b[0;34m.\u001b[0m\u001b[0mreset_index\u001b[0m\u001b[0;34m(\u001b[0m\u001b[0mdrop\u001b[0m\u001b[0;34m=\u001b[0m\u001b[0;32mTrue\u001b[0m\u001b[0;34m)\u001b[0m\u001b[0;34m\u001b[0m\u001b[0;34m\u001b[0m\u001b[0m\n\u001b[0m\u001b[1;32m    140\u001b[0m         \u001b[0mdf2\u001b[0m \u001b[0;34m=\u001b[0m \u001b[0mpd\u001b[0m\u001b[0;34m.\u001b[0m\u001b[0mmelt\u001b[0m\u001b[0;34m(\u001b[0m\u001b[0mdf_all\u001b[0m\u001b[0;34m[\u001b[0m\u001b[0mcols_to_stack\u001b[0m\u001b[0;34m]\u001b[0m\u001b[0;34m)\u001b[0m\u001b[0;34m.\u001b[0m\u001b[0mrename\u001b[0m\u001b[0;34m(\u001b[0m\u001b[0;34m{\u001b[0m\u001b[0;34m'variable'\u001b[0m\u001b[0;34m:\u001b[0m \u001b[0;34m'eval_type'\u001b[0m\u001b[0;34m,\u001b[0m \u001b[0;34m'value'\u001b[0m\u001b[0;34m:\u001b[0m \u001b[0;34m'eval'\u001b[0m\u001b[0;34m}\u001b[0m\u001b[0;34m,\u001b[0m \u001b[0maxis\u001b[0m\u001b[0;34m=\u001b[0m\u001b[0;36m1\u001b[0m\u001b[0;34m)\u001b[0m\u001b[0;34m\u001b[0m\u001b[0;34m\u001b[0m\u001b[0m\n\u001b[1;32m    141\u001b[0m         \u001b[0mdf_all\u001b[0m \u001b[0;34m=\u001b[0m \u001b[0mpd\u001b[0m\u001b[0;34m.\u001b[0m\u001b[0mconcat\u001b[0m\u001b[0;34m(\u001b[0m\u001b[0;34m[\u001b[0m\u001b[0mdf1\u001b[0m\u001b[0;34m,\u001b[0m \u001b[0mdf2\u001b[0m\u001b[0;34m]\u001b[0m\u001b[0;34m,\u001b[0m \u001b[0maxis\u001b[0m\u001b[0;34m=\u001b[0m\u001b[0;36m1\u001b[0m\u001b[0;34m)\u001b[0m\u001b[0;34m\u001b[0m\u001b[0;34m\u001b[0m\u001b[0m\n",
      "\u001b[0;32m~/.local/share/virtualenvs/cerebellum_connectivity-DbxULmID/lib/python3.7/site-packages/pandas/core/reshape/concat.py\u001b[0m in \u001b[0;36mconcat\u001b[0;34m(objs, axis, join, join_axes, ignore_index, keys, levels, names, verify_integrity, sort, copy)\u001b[0m\n\u001b[1;32m    253\u001b[0m         \u001b[0mverify_integrity\u001b[0m\u001b[0;34m=\u001b[0m\u001b[0mverify_integrity\u001b[0m\u001b[0;34m,\u001b[0m\u001b[0;34m\u001b[0m\u001b[0;34m\u001b[0m\u001b[0m\n\u001b[1;32m    254\u001b[0m         \u001b[0mcopy\u001b[0m\u001b[0;34m=\u001b[0m\u001b[0mcopy\u001b[0m\u001b[0;34m,\u001b[0m\u001b[0;34m\u001b[0m\u001b[0;34m\u001b[0m\u001b[0m\n\u001b[0;32m--> 255\u001b[0;31m         \u001b[0msort\u001b[0m\u001b[0;34m=\u001b[0m\u001b[0msort\u001b[0m\u001b[0;34m,\u001b[0m\u001b[0;34m\u001b[0m\u001b[0;34m\u001b[0m\u001b[0m\n\u001b[0m\u001b[1;32m    256\u001b[0m     )\n\u001b[1;32m    257\u001b[0m \u001b[0;34m\u001b[0m\u001b[0m\n",
      "\u001b[0;32m~/.local/share/virtualenvs/cerebellum_connectivity-DbxULmID/lib/python3.7/site-packages/pandas/core/reshape/concat.py\u001b[0m in \u001b[0;36m__init__\u001b[0;34m(self, objs, axis, join, join_axes, keys, levels, names, ignore_index, verify_integrity, copy, sort)\u001b[0m\n\u001b[1;32m    302\u001b[0m \u001b[0;34m\u001b[0m\u001b[0m\n\u001b[1;32m    303\u001b[0m         \u001b[0;32mif\u001b[0m \u001b[0mlen\u001b[0m\u001b[0;34m(\u001b[0m\u001b[0mobjs\u001b[0m\u001b[0;34m)\u001b[0m \u001b[0;34m==\u001b[0m \u001b[0;36m0\u001b[0m\u001b[0;34m:\u001b[0m\u001b[0;34m\u001b[0m\u001b[0;34m\u001b[0m\u001b[0m\n\u001b[0;32m--> 304\u001b[0;31m             \u001b[0;32mraise\u001b[0m \u001b[0mValueError\u001b[0m\u001b[0;34m(\u001b[0m\u001b[0;34m\"No objects to concatenate\"\u001b[0m\u001b[0;34m)\u001b[0m\u001b[0;34m\u001b[0m\u001b[0;34m\u001b[0m\u001b[0m\n\u001b[0m\u001b[1;32m    305\u001b[0m \u001b[0;34m\u001b[0m\u001b[0m\n\u001b[1;32m    306\u001b[0m         \u001b[0;32mif\u001b[0m \u001b[0mkeys\u001b[0m \u001b[0;32mis\u001b[0m \u001b[0;32mNone\u001b[0m\u001b[0;34m:\u001b[0m\u001b[0;34m\u001b[0m\u001b[0;34m\u001b[0m\u001b[0m\n",
      "\u001b[0;31mValueError\u001b[0m: No objects to concatenate"
     ]
    }
   ],
   "source": [
    "# define class for plotting \n",
    "pred = PlotPred(eval_on=['sc1'], eval_name=['tesselsWB162_grey_nan_l2_regress'], eval_avg='sess', train_avg='sess')\n",
    "\n",
    "# load dataframe\n",
    "dataframe = pred.load_dataframe()\n",
    "\n",
    "# plot graph\n",
    "pred.plot_predictions(dataframe, x='lambdas', y='eval', hue='eval_type', filter_eval=['R_noise_high', 'R_noise_low','R_pred_cv', 'R_pred_ncv'], plot_params=True, forloop=None)\n",
    "\n",
    "# pred.plot_predictions(dataframe, x='eval_X_roi', y='eval', hue='eval_type', filter_eval=['R_pred_ncv', 'R_pred_cv'], forloop=False, plot_params=True)\n"
   ]
  },
  {
   "cell_type": "code",
   "execution_count": null,
   "metadata": {},
   "outputs": [],
   "source": []
  }
 ],
 "metadata": {
  "kernelspec": {
   "display_name": "Python 3",
   "language": "python",
   "name": "python3"
  },
  "language_info": {
   "codemirror_mode": {
    "name": "ipython",
    "version": 3
   },
   "file_extension": ".py",
   "mimetype": "text/x-python",
   "name": "python",
   "nbconvert_exporter": "python",
   "pygments_lexer": "ipython3",
   "version": "3.7.8-final"
  }
 },
 "nbformat": 4,
 "nbformat_minor": 4
}