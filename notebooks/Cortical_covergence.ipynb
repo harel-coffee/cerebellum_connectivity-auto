{
 "cells": [
  {
   "cell_type": "markdown",
   "id": "705ee164",
   "metadata": {},
   "source": [
    "## Cortical dispersion summary  "
   ]
  },
  {
   "cell_type": "code",
   "execution_count": 1,
   "id": "7a04af36",
   "metadata": {},
   "outputs": [
    {
     "name": "stderr",
     "output_type": "stream",
     "text": [
      "/Users/jdiedrichsen/Python/SUITPy/SUITPy/__init__.py:27: FutureWarning: Fetchers from the SUITPy.atlas module will be updated in later versions as new atlases become available\n",
      "  \"updated in later versions as new atlases become available\", FutureWarning)\n",
      "/Users/jdiedrichsen/.local/share/virtualenvs/cerebellum_connectivity-lV1BGCUV/lib/python3.7/site-packages/nilearn/datasets/__init__.py:89: FutureWarning: Fetchers from the nilearn.datasets module will be updated in version 0.9 to return python strings instead of bytes and Pandas dataframes instead of Numpy arrays.\n",
      "  \"Numpy arrays.\", FutureWarning)\n"
     ]
    }
   ],
   "source": [
    "import pandas as pd\n",
    "import seaborn as sns\n",
    "import os \n",
    "import numpy as np\n",
    "import matplotlib.pyplot as plt\n",
    "\n",
    "from connectivity import weights as cweights\n",
    "from connectivity import visualize as summary\n",
    "from connectivity import data as cdata\n",
    "import connectivity.constants as const\n"
   ]
  },
  {
   "cell_type": "code",
   "execution_count": 2,
   "id": "bbd43ba1",
   "metadata": {},
   "outputs": [],
   "source": [
    "def plot_dispersion(method='ridge',cortex='tessels0042'):\n",
    "    dirs = const.Dirs(exp_name='sc1')\n",
    "    fpath = os.path.join(dirs.conn_train_dir, 'cortical_dispersion_stats.csv')\n",
    "    df = pd.read_csv(fpath)\n",
    "    df['w_var']=df.Variance*df.sum_w\n",
    "    df = df[df.cortex==cortex]\n",
    "    T=df.groupby(['sn','roi'])\n",
    "    T = T.apply(np.mean)\n",
    "    T['var_w'] = T.w_var/T.sum_w\n",
    "    fig, axes = plt.subplots(2, 2,figsize=(12,10))\n",
    "    sns.lineplot(data=df,x='roi',y='Variance',hue='hem',ax=axes[0,0])\n",
    "    axes[0,0].set_title('Spherical Var by Hemisphere')\n",
    "    sns.lineplot(data=df,x='roi',y='sum_w',hue='hem',ax=axes[0,1])\n",
    "    axes[0,1].set_title('Sum of weights for hemisphere')\n",
    "    sns.lineplot(data=T,x='roi',y='Variance',ax=axes[1,0])\n",
    "    axes[1,0].set_title('Raw averaged Spherical Var')\n",
    "    sns.lineplot(data=T,x='roi',y='var_w',ax=axes[1,1])\n",
    "    axes[1,1].set_title('weighted spherical Var')\n",
    "    return T\n"
   ]
  },
  {
   "cell_type": "code",
   "execution_count": 20,
   "id": "eac1ec30",
   "metadata": {},
   "outputs": [
    {
     "name": "stderr",
     "output_type": "stream",
     "text": [
      "/Users/jdiedrichsen/.local/share/virtualenvs/cerebellum_connectivity-lV1BGCUV/lib/python3.7/site-packages/ipykernel_launcher.py:19: UserWarning: Matplotlib is currently using module://ipykernel.pylab.backend_inline, which is a non-GUI backend, so cannot show the figure.\n"
     ]
    }
   ],
   "source": [
    "plot_dispersion(cortex='tessels0042')"
   ]
  }
 ],
 "metadata": {
  "interpreter": {
   "hash": "c4697d38e5059af475208f3f9ccebc7bca3e15a44206b3912496cf52f5ea4795"
  },
  "kernelspec": {
   "display_name": "Python 3.7.0 64-bit ('cerebellum_connectivity-lV1BGCUV': pipenv)",
   "language": "python",
   "name": "python3"
  },
  "language_info": {
   "codemirror_mode": {
    "name": "ipython",
    "version": 3
   },
   "file_extension": ".py",
   "mimetype": "text/x-python",
   "name": "python",
   "nbconvert_exporter": "python",
   "pygments_lexer": "ipython3",
   "version": "3.7.0"
  }
 },
 "nbformat": 4,
 "nbformat_minor": 5
}
